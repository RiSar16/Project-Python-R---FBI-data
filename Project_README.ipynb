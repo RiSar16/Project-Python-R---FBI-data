{
 "cells": [
  {
   "cell_type": "markdown",
   "id": "f5df5e53",
   "metadata": {},
   "source": [
    "# Introduction\n"
   ]
  },
  {
   "cell_type": "markdown",
   "id": "70cd426b",
   "metadata": {},
   "source": [
    "Several chemical elements are used to produce glass. Many are the types of glass that can be found in vehicles, utensils, and windows. Despite glass manufacturing being automated and uniform, variations remain due to impurities of the raw materials employed in the production. For this reason, glass products present minor variations. \n",
    "\n",
    "In forensic research, it is important to recognize which are the constituent materials of a fragment of class. Indeed, a fragment of glass collected from a crime scene may be evidence related to a suspect. (Bottrell C., 2009). \n",
    "\n",
    "The refractive index is a metric useful for capturing minor variations of a glass product and it is a commonly used metric in forensic investigation for the examination of glass fragments (Koons et al. 2002). \n",
    "\n",
    "Nevertheless, the refractive index might be not enough to distinguish the properties of a non-window glass from window glass. Since the raw materials to produce those types of glass are similar, the refractive index measurement may overlap glass types.\n",
    "\n",
    "The classification techniques can be applied to identify the type of glass fragment."
   ]
  },
  {
   "cell_type": "markdown",
   "id": "635d3d3d",
   "metadata": {},
   "source": [
    "# Aim of the project"
   ]
  },
  {
   "cell_type": "markdown",
   "id": "9a614722",
   "metadata": {},
   "source": [
    "The goal is to find the best classifier in distinguishing a glass fragment between a float processed glass and a non-float processed glass. \n",
    "\n",
    "The aim is both to compare the performances of several classifiers on the dataset and to apply Principal Component Analysis (PCA) as a dimensionality technique to improve the classifiers´ performances. \n",
    "\n",
    "I expect that the non-performative classifiers may present less misclassification errors once PCA is deployed. \n",
    "\n",
    "The classifiers tested are: \n",
    "\n",
    "- Linear Discriminant Analyisis (LDA)\n",
    "- Quadratic discriminant analysis (QDA) \n",
    "- Logistic Regression (LR)\n",
    "- Classification Tree (CT)"
   ]
  },
  {
   "cell_type": "markdown",
   "id": "d33950d1",
   "metadata": {},
   "source": [
    "# Evaluation"
   ]
  },
  {
   "cell_type": "markdown",
   "id": "0b05dc51",
   "metadata": {},
   "source": [
    "Apparent error rate (APER) and the receiver operating characteristic (ROC) curve are used for the assessment. "
   ]
  },
  {
   "cell_type": "markdown",
   "id": "1a8e2ae1",
   "metadata": {},
   "source": [
    "# Data Exploration and Pre-Processing"
   ]
  },
  {
   "cell_type": "markdown",
   "id": "29b7b0e8",
   "metadata": {},
   "source": [
    "- Box-Cox power transformation\n",
    "\n",
    "- Test for normality\n",
    "\n",
    "- PCA on the transformed data to identify most significant features in the dataset."
   ]
  },
  {
   "cell_type": "markdown",
   "id": "c813e07d",
   "metadata": {},
   "source": [
    "# Notebook Sections"
   ]
  },
  {
   "cell_type": "markdown",
   "id": "ae74f9a6",
   "metadata": {},
   "source": [
    "### Part_1\n",
    "\n",
    "- Data Exploration\n",
    "- Pre-processing techniques\n",
    "- Main characteristics of the data\n",
    "\n",
    "### Part_2 \n",
    "\n",
    "- Classifiers LDA, QDA, LR, CT\n",
    "- Comparison of classifier performances\n",
    "- Comparison of classifier performances with PCA\n"
   ]
  },
  {
   "cell_type": "code",
   "execution_count": null,
   "id": "53f7161e",
   "metadata": {},
   "outputs": [],
   "source": []
  }
 ],
 "metadata": {
  "kernelspec": {
   "display_name": "Python 3 (ipykernel)",
   "language": "python",
   "name": "python3"
  },
  "language_info": {
   "codemirror_mode": {
    "name": "ipython",
    "version": 3
   },
   "file_extension": ".py",
   "mimetype": "text/x-python",
   "name": "python",
   "nbconvert_exporter": "python",
   "pygments_lexer": "ipython3",
   "version": "3.8.10"
  }
 },
 "nbformat": 4,
 "nbformat_minor": 5
}
